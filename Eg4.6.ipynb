{
 "cells": [
  {
   "cell_type": "code",
   "execution_count": 129,
   "metadata": {},
   "outputs": [],
   "source": [
    "import numpy as np\n",
    "import pandas as pd "
   ]
  },
  {
   "cell_type": "code",
   "execution_count": 130,
   "metadata": {},
   "outputs": [
    {
     "data": {
      "text/html": [
       "<div>\n",
       "<style scoped>\n",
       "    .dataframe tbody tr th:only-of-type {\n",
       "        vertical-align: middle;\n",
       "    }\n",
       "\n",
       "    .dataframe tbody tr th {\n",
       "        vertical-align: top;\n",
       "    }\n",
       "\n",
       "    .dataframe thead th {\n",
       "        text-align: right;\n",
       "    }\n",
       "</style>\n",
       "<table border=\"1\" class=\"dataframe\">\n",
       "  <thead>\n",
       "    <tr style=\"text-align: right;\">\n",
       "      <th></th>\n",
       "      <th>start</th>\n",
       "      <th>end</th>\n",
       "      <th>length</th>\n",
       "      <th>material</th>\n",
       "      <th>MoI</th>\n",
       "    </tr>\n",
       "  </thead>\n",
       "  <tbody>\n",
       "    <tr>\n",
       "      <th>0</th>\n",
       "      <td>0</td>\n",
       "      <td>1</td>\n",
       "      <td>3</td>\n",
       "      <td>2.100000e+11</td>\n",
       "      <td>3.000000e-07</td>\n",
       "    </tr>\n",
       "  </tbody>\n",
       "</table>\n",
       "</div>"
      ],
      "text/plain": [
       "   start  end  length      material           MoI\n",
       "0      0    1       3  2.100000e+11  3.000000e-07"
      ]
     },
     "execution_count": 130,
     "metadata": {},
     "output_type": "execute_result"
    }
   ],
   "source": [
    "columns = ['start','end','length','material','MoI']\n",
    "data = [[0,1,3,210e9,0.3e-6]]\n",
    "elements = pd.DataFrame(data,columns=columns)\n",
    "elements"
   ]
  },
  {
   "cell_type": "code",
   "execution_count": 131,
   "metadata": {},
   "outputs": [
    {
     "data": {
      "text/html": [
       "<div>\n",
       "<style scoped>\n",
       "    .dataframe tbody tr th:only-of-type {\n",
       "        vertical-align: middle;\n",
       "    }\n",
       "\n",
       "    .dataframe tbody tr th {\n",
       "        vertical-align: top;\n",
       "    }\n",
       "\n",
       "    .dataframe thead th {\n",
       "        text-align: right;\n",
       "    }\n",
       "</style>\n",
       "<table border=\"1\" class=\"dataframe\">\n",
       "  <thead>\n",
       "    <tr style=\"text-align: right;\">\n",
       "      <th></th>\n",
       "      <th>coordinate</th>\n",
       "      <th>displacement</th>\n",
       "      <th>slope</th>\n",
       "      <th>load</th>\n",
       "      <th>moment</th>\n",
       "    </tr>\n",
       "  </thead>\n",
       "  <tbody>\n",
       "    <tr>\n",
       "      <th>0</th>\n",
       "      <td>0</td>\n",
       "      <td>0.0</td>\n",
       "      <td>0.0</td>\n",
       "      <td>NaN</td>\n",
       "      <td>NaN</td>\n",
       "    </tr>\n",
       "    <tr>\n",
       "      <th>1</th>\n",
       "      <td>3</td>\n",
       "      <td>NaN</td>\n",
       "      <td>NaN</td>\n",
       "      <td>-15000.0</td>\n",
       "      <td>7500.0</td>\n",
       "    </tr>\n",
       "  </tbody>\n",
       "</table>\n",
       "</div>"
      ],
      "text/plain": [
       "   coordinate  displacement  slope     load  moment\n",
       "0           0           0.0    0.0      NaN     NaN\n",
       "1           3           NaN    NaN -15000.0  7500.0"
      ]
     },
     "execution_count": 131,
     "metadata": {},
     "output_type": "execute_result"
    }
   ],
   "source": [
    "w = 10000 # uniform load in N/m\n",
    "L = elements.loc[0,'length']\n",
    "# creating nodes\n",
    "columns = ['coordinate','displacement','slope','load','moment']\n",
    "data = [[0,0,0,np.nan,np.nan],\n",
    "        [3,np.nan,np.nan,-w*L/2,w*L*L/12]]\n",
    "nodes = pd.DataFrame(data,columns=columns)\n",
    "nodes"
   ]
  },
  {
   "cell_type": "code",
   "execution_count": 132,
   "metadata": {},
   "outputs": [
    {
     "data": {
      "text/html": [
       "<div>\n",
       "<style scoped>\n",
       "    .dataframe tbody tr th:only-of-type {\n",
       "        vertical-align: middle;\n",
       "    }\n",
       "\n",
       "    .dataframe tbody tr th {\n",
       "        vertical-align: top;\n",
       "    }\n",
       "\n",
       "    .dataframe thead th {\n",
       "        text-align: right;\n",
       "    }\n",
       "</style>\n",
       "<table border=\"1\" class=\"dataframe\">\n",
       "  <thead>\n",
       "    <tr style=\"text-align: right;\">\n",
       "      <th></th>\n",
       "      <th>start</th>\n",
       "      <th>end</th>\n",
       "      <th>length</th>\n",
       "      <th>material</th>\n",
       "      <th>MoI</th>\n",
       "      <th>k</th>\n",
       "    </tr>\n",
       "  </thead>\n",
       "  <tbody>\n",
       "    <tr>\n",
       "      <th>0</th>\n",
       "      <td>0</td>\n",
       "      <td>1</td>\n",
       "      <td>3</td>\n",
       "      <td>2.100000e+11</td>\n",
       "      <td>3.000000e-07</td>\n",
       "      <td>[[28000.0, 42000.0, -28000.0, 42000.0], [42000...</td>\n",
       "    </tr>\n",
       "  </tbody>\n",
       "</table>\n",
       "</div>"
      ],
      "text/plain": [
       "   start  end  length      material           MoI  \\\n",
       "0      0    1       3  2.100000e+11  3.000000e-07   \n",
       "\n",
       "                                                   k  \n",
       "0  [[28000.0, 42000.0, -28000.0, 42000.0], [42000...  "
      ]
     },
     "execution_count": 132,
     "metadata": {},
     "output_type": "execute_result"
    }
   ],
   "source": [
    "def compute_localK(element):\n",
    "    L = element['length']\n",
    "    c = element['material']*element['MoI']/(L**3)\n",
    "    k = np.array([[12, 6*L, -12, 6*L],\n",
    "                [6*L, 4*L*L, -6*L, 2*L*L],\n",
    "                [-12, -6*L, 12, -6*L],\n",
    "                [6*L, 2*L*L, -6*L, 4*L*L]])*c\n",
    "    return k\n",
    "elements['k'] = elements.apply(compute_localK,axis=1)\n",
    "elements"
   ]
  },
  {
   "cell_type": "code",
   "execution_count": 133,
   "metadata": {},
   "outputs": [
    {
     "data": {
      "text/plain": [
       "array([[ 28000.,  42000., -28000.,  42000.],\n",
       "       [ 42000.,  84000., -42000.,  42000.],\n",
       "       [-28000., -42000.,  28000., -42000.],\n",
       "       [ 42000.,  42000., -42000.,  84000.]])"
      ]
     },
     "execution_count": 133,
     "metadata": {},
     "output_type": "execute_result"
    }
   ],
   "source": [
    "elements.loc[0,'k']"
   ]
  },
  {
   "cell_type": "code",
   "execution_count": 134,
   "metadata": {},
   "outputs": [
    {
     "data": {
      "text/plain": [
       "array([[ 28000.,  42000., -28000.,  42000.],\n",
       "       [ 42000.,  84000., -42000.,  42000.],\n",
       "       [-28000., -42000.,  28000., -42000.],\n",
       "       [ 42000.,  42000., -42000.,  84000.]])"
      ]
     },
     "execution_count": 134,
     "metadata": {},
     "output_type": "execute_result"
    }
   ],
   "source": [
    "N = len(nodes)\n",
    "def compute_globalK(element):\n",
    "    indices = np.arange(N*2)\n",
    "    indices = indices.reshape(-1,2)\n",
    "    K = np.zeros([N*2,N*2])\n",
    "    start = element['start']\n",
    "    end = element['end']\n",
    "    indices = np.hstack([indices[start],indices[end]])\n",
    "    K[np.ix_(indices,indices)] = element['k']\n",
    "    return K\n",
    "K = elements.apply(compute_globalK,axis=1).sum()\n",
    "K"
   ]
  },
  {
   "cell_type": "code",
   "execution_count": 135,
   "metadata": {},
   "outputs": [],
   "source": [
    "def partition_k(K, A, B):\n",
    "    KAA = K[np.ix_(A,A)]\n",
    "    KAB = K[np.ix_(A,B)]\n",
    "    KBA = K[np.ix_(B,A)]\n",
    "    KBB = K[np.ix_(B,B)]\n",
    "    return KAA, KAB, KBA, KBB\n",
    "\n",
    "U = nodes[['displacement','slope']].to_numpy()\n",
    "U = U.ravel()\n",
    "A = np.isnan(U)\n",
    "\n",
    "P = nodes[['load','moment']].to_numpy()\n",
    "P = P.ravel()\n",
    "B = np.isnan(P)\n",
    "\n",
    "KAA, KAB, KBA, KBB = partition_k(K,A,B)"
   ]
  },
  {
   "cell_type": "code",
   "execution_count": 136,
   "metadata": {},
   "outputs": [],
   "source": [
    "# known displacements, UB\n",
    "UB = U[B]\n",
    "# known loads, PA\n",
    "PA = P[A]\n",
    "\n",
    "UA = np.dot(np.linalg.inv(KAA),(PA - np.dot(KAB,UB)))\n",
    "U[A] = UA\n",
    "\n",
    "PB = np.dot(KBA,UA) + np.dot(KBB,UB)\n",
    "P[B] = PB"
   ]
  },
  {
   "cell_type": "code",
   "execution_count": 137,
   "metadata": {},
   "outputs": [
    {
     "data": {
      "text/html": [
       "<div>\n",
       "<style scoped>\n",
       "    .dataframe tbody tr th:only-of-type {\n",
       "        vertical-align: middle;\n",
       "    }\n",
       "\n",
       "    .dataframe tbody tr th {\n",
       "        vertical-align: top;\n",
       "    }\n",
       "\n",
       "    .dataframe thead th {\n",
       "        text-align: right;\n",
       "    }\n",
       "</style>\n",
       "<table border=\"1\" class=\"dataframe\">\n",
       "  <thead>\n",
       "    <tr style=\"text-align: right;\">\n",
       "      <th></th>\n",
       "      <th>coordinate</th>\n",
       "      <th>displacement</th>\n",
       "      <th>slope</th>\n",
       "      <th>load</th>\n",
       "      <th>moment</th>\n",
       "    </tr>\n",
       "  </thead>\n",
       "  <tbody>\n",
       "    <tr>\n",
       "      <th>0</th>\n",
       "      <td>0</td>\n",
       "      <td>0.000</td>\n",
       "      <td>0.000</td>\n",
       "      <td>15000.0</td>\n",
       "      <td>37500.0</td>\n",
       "    </tr>\n",
       "    <tr>\n",
       "      <th>1</th>\n",
       "      <td>3</td>\n",
       "      <td>-1.607</td>\n",
       "      <td>-0.714</td>\n",
       "      <td>-15000.0</td>\n",
       "      <td>7500.0</td>\n",
       "    </tr>\n",
       "  </tbody>\n",
       "</table>\n",
       "</div>"
      ],
      "text/plain": [
       "   coordinate  displacement  slope     load   moment\n",
       "0           0         0.000  0.000  15000.0  37500.0\n",
       "1           3        -1.607 -0.714 -15000.0   7500.0"
      ]
     },
     "execution_count": 137,
     "metadata": {},
     "output_type": "execute_result"
    }
   ],
   "source": [
    "results = nodes.copy()\n",
    "results[['displacement','slope']] = U.reshape(-1,2)\n",
    "results[['load','moment']] = P.reshape(-1,2)\n",
    "results.round(3)"
   ]
  },
  {
   "cell_type": "code",
   "execution_count": 138,
   "metadata": {},
   "outputs": [
    {
     "data": {
      "image/png": "[encoded data removed]",
      "text/plain": [
       "<Figure size 640x480 with 1 Axes>"
      ]
     },
     "metadata": {},
     "output_type": "display_data"
    }
   ],
   "source": [
    "import matplotlib.pyplot as plt\n",
    "\n",
    "y = np.zeros(N)\n",
    "plt.style.use('dark_background')\n",
    "plt.plot(results['coordinate'],y,'w.-')\n",
    "\n",
    "plt.plot(results['coordinate'],results['displacement'],'r.-')\n",
    "#plt.ylim([-1.8,1.8])\n",
    "plt.show()"
   ]
  },
  {
   "cell_type": "code",
   "execution_count": 139,
   "metadata": {},
   "outputs": [
    {
     "data": {
      "text/html": [
       "<div>\n",
       "<style scoped>\n",
       "    .dataframe tbody tr th:only-of-type {\n",
       "        vertical-align: middle;\n",
       "    }\n",
       "\n",
       "    .dataframe tbody tr th {\n",
       "        vertical-align: top;\n",
       "    }\n",
       "\n",
       "    .dataframe thead th {\n",
       "        text-align: right;\n",
       "    }\n",
       "</style>\n",
       "<table border=\"1\" class=\"dataframe\">\n",
       "  <thead>\n",
       "    <tr style=\"text-align: right;\">\n",
       "      <th></th>\n",
       "      <th>coordinate</th>\n",
       "      <th>displacement</th>\n",
       "      <th>slope</th>\n",
       "      <th>load</th>\n",
       "      <th>moment</th>\n",
       "      <th>globalForce</th>\n",
       "      <th>globalMoment</th>\n",
       "    </tr>\n",
       "  </thead>\n",
       "  <tbody>\n",
       "    <tr>\n",
       "      <th>0</th>\n",
       "      <td>0</td>\n",
       "      <td>0.000000</td>\n",
       "      <td>0.000000</td>\n",
       "      <td>15000.0</td>\n",
       "      <td>37500.0</td>\n",
       "      <td>30000.0</td>\n",
       "      <td>45000.0</td>\n",
       "    </tr>\n",
       "    <tr>\n",
       "      <th>1</th>\n",
       "      <td>3</td>\n",
       "      <td>-1.607143</td>\n",
       "      <td>-0.714286</td>\n",
       "      <td>-15000.0</td>\n",
       "      <td>7500.0</td>\n",
       "      <td>0.0</td>\n",
       "      <td>0.0</td>\n",
       "    </tr>\n",
       "  </tbody>\n",
       "</table>\n",
       "</div>"
      ],
      "text/plain": [
       "   coordinate  displacement     slope     load   moment  globalForce  \\\n",
       "0           0      0.000000  0.000000  15000.0  37500.0      30000.0   \n",
       "1           3     -1.607143 -0.714286 -15000.0   7500.0          0.0   \n",
       "\n",
       "   globalMoment  \n",
       "0       45000.0  \n",
       "1           0.0  "
      ]
     },
     "execution_count": 139,
     "metadata": {},
     "output_type": "execute_result"
    }
   ],
   "source": [
    "F0 = np.array([-w*L/2,-w*L*L/12,-w*L/2,w*L*L/12])\n",
    "Fe = results[['load','moment']].to_numpy()\n",
    "Fe = Fe.reshape(1,-1)\n",
    "F = (Fe-F0).reshape(-1,2)\n",
    "results[['globalForce','globalMoment']] = F\n",
    "results"
   ]
  },
  {
   "cell_type": "markdown",
   "metadata": {},
   "source": [
    "### Cantilever beam with point load"
   ]
  },
  {
   "cell_type": "code",
   "execution_count": 164,
   "metadata": {},
   "outputs": [
    {
     "data": {
      "text/html": [
       "<div>\n",
       "<style scoped>\n",
       "    .dataframe tbody tr th:only-of-type {\n",
       "        vertical-align: middle;\n",
       "    }\n",
       "\n",
       "    .dataframe tbody tr th {\n",
       "        vertical-align: top;\n",
       "    }\n",
       "\n",
       "    .dataframe thead th {\n",
       "        text-align: right;\n",
       "    }\n",
       "</style>\n",
       "<table border=\"1\" class=\"dataframe\">\n",
       "  <thead>\n",
       "    <tr style=\"text-align: right;\">\n",
       "      <th></th>\n",
       "      <th>start</th>\n",
       "      <th>end</th>\n",
       "      <th>length</th>\n",
       "      <th>material</th>\n",
       "      <th>MoI</th>\n",
       "    </tr>\n",
       "  </thead>\n",
       "  <tbody>\n",
       "    <tr>\n",
       "      <th>0</th>\n",
       "      <td>0</td>\n",
       "      <td>1</td>\n",
       "      <td>3</td>\n",
       "      <td>2.100000e+11</td>\n",
       "      <td>3.000000e-07</td>\n",
       "    </tr>\n",
       "    <tr>\n",
       "      <th>1</th>\n",
       "      <td>1</td>\n",
       "      <td>2</td>\n",
       "      <td>3</td>\n",
       "      <td>2.100000e+11</td>\n",
       "      <td>3.000000e-07</td>\n",
       "    </tr>\n",
       "  </tbody>\n",
       "</table>\n",
       "</div>"
      ],
      "text/plain": [
       "   start  end  length      material           MoI\n",
       "0      0    1       3  2.100000e+11  3.000000e-07\n",
       "1      1    2       3  2.100000e+11  3.000000e-07"
      ]
     },
     "execution_count": 164,
     "metadata": {},
     "output_type": "execute_result"
    }
   ],
   "source": [
    "columns = ['start','end','length','material','MoI']\n",
    "data = [[0,1,3,210e9,0.3e-6],\n",
    "        [1,2,3,210e9,0.3e-6]]\n",
    "elements = pd.DataFrame(data,columns=columns)\n",
    "elements"
   ]
  },
  {
   "cell_type": "code",
   "execution_count": 165,
   "metadata": {},
   "outputs": [
    {
     "data": {
      "text/html": [
       "<div>\n",
       "<style scoped>\n",
       "    .dataframe tbody tr th:only-of-type {\n",
       "        vertical-align: middle;\n",
       "    }\n",
       "\n",
       "    .dataframe tbody tr th {\n",
       "        vertical-align: top;\n",
       "    }\n",
       "\n",
       "    .dataframe thead th {\n",
       "        text-align: right;\n",
       "    }\n",
       "</style>\n",
       "<table border=\"1\" class=\"dataframe\">\n",
       "  <thead>\n",
       "    <tr style=\"text-align: right;\">\n",
       "      <th></th>\n",
       "      <th>coordinate</th>\n",
       "      <th>displacement</th>\n",
       "      <th>slope</th>\n",
       "      <th>load</th>\n",
       "      <th>moment</th>\n",
       "    </tr>\n",
       "  </thead>\n",
       "  <tbody>\n",
       "    <tr>\n",
       "      <th>0</th>\n",
       "      <td>0</td>\n",
       "      <td>0.0</td>\n",
       "      <td>0.0</td>\n",
       "      <td>NaN</td>\n",
       "      <td>NaN</td>\n",
       "    </tr>\n",
       "    <tr>\n",
       "      <th>1</th>\n",
       "      <td>3</td>\n",
       "      <td>NaN</td>\n",
       "      <td>NaN</td>\n",
       "      <td>-10000.0</td>\n",
       "      <td>0.0</td>\n",
       "    </tr>\n",
       "  </tbody>\n",
       "</table>\n",
       "</div>"
      ],
      "text/plain": [
       "   coordinate  displacement  slope     load  moment\n",
       "0           0           0.0    0.0      NaN     NaN\n",
       "1           3           NaN    NaN -10000.0     0.0"
      ]
     },
     "execution_count": 165,
     "metadata": {},
     "output_type": "execute_result"
    }
   ],
   "source": [
    "columns = ['coordinate','displacement','slope','load','moment']\n",
    "data = [[0,0,0,np.nan,np.nan],\n",
    "        [3,np.nan,np.nan,-10000,0]]\n",
    "nodes = pd.DataFrame(data,columns=columns)\n",
    "nodes"
   ]
  },
  {
   "cell_type": "code",
   "execution_count": 166,
   "metadata": {},
   "outputs": [
    {
     "name": "stderr",
     "output_type": "stream",
     "text": [
      "C:\\Users\\BhargavNaidu\\AppData\\Local\\Temp\\ipykernel_21440\\732608417.py:3: FutureWarning: The frame.append method is deprecated and will be removed from pandas in a future version. Use pandas.concat instead.\n",
      "  nodes = nodes.append(df,ignore_index=True)\n"
     ]
    },
    {
     "data": {
      "text/html": [
       "<div>\n",
       "<style scoped>\n",
       "    .dataframe tbody tr th:only-of-type {\n",
       "        vertical-align: middle;\n",
       "    }\n",
       "\n",
       "    .dataframe tbody tr th {\n",
       "        vertical-align: top;\n",
       "    }\n",
       "\n",
       "    .dataframe thead th {\n",
       "        text-align: right;\n",
       "    }\n",
       "</style>\n",
       "<table border=\"1\" class=\"dataframe\">\n",
       "  <thead>\n",
       "    <tr style=\"text-align: right;\">\n",
       "      <th></th>\n",
       "      <th>coordinate</th>\n",
       "      <th>displacement</th>\n",
       "      <th>slope</th>\n",
       "      <th>load</th>\n",
       "      <th>moment</th>\n",
       "    </tr>\n",
       "  </thead>\n",
       "  <tbody>\n",
       "    <tr>\n",
       "      <th>0</th>\n",
       "      <td>0.0</td>\n",
       "      <td>0.0</td>\n",
       "      <td>0.0</td>\n",
       "      <td>NaN</td>\n",
       "      <td>NaN</td>\n",
       "    </tr>\n",
       "    <tr>\n",
       "      <th>1</th>\n",
       "      <td>1.5</td>\n",
       "      <td>NaN</td>\n",
       "      <td>NaN</td>\n",
       "      <td>0.0</td>\n",
       "      <td>0.0</td>\n",
       "    </tr>\n",
       "    <tr>\n",
       "      <th>2</th>\n",
       "      <td>3.0</td>\n",
       "      <td>NaN</td>\n",
       "      <td>NaN</td>\n",
       "      <td>-10000.0</td>\n",
       "      <td>0.0</td>\n",
       "    </tr>\n",
       "  </tbody>\n",
       "</table>\n",
       "</div>"
      ],
      "text/plain": [
       "   coordinate  displacement  slope     load  moment\n",
       "0         0.0           0.0    0.0      NaN     NaN\n",
       "1         1.5           NaN    NaN      0.0     0.0\n",
       "2         3.0           NaN    NaN -10000.0     0.0"
      ]
     },
     "execution_count": 166,
     "metadata": {},
     "output_type": "execute_result"
    }
   ],
   "source": [
    "df = nodes.loc[len(nodes)-1]\n",
    "nodes.loc[len(nodes)-1] = [1.5, np.nan, np.nan, 0, 0]\n",
    "nodes = nodes.append(df,ignore_index=True)\n",
    "nodes"
   ]
  },
  {
   "cell_type": "code",
   "execution_count": 167,
   "metadata": {},
   "outputs": [
    {
     "data": {
      "text/html": [
       "<div>\n",
       "<style scoped>\n",
       "    .dataframe tbody tr th:only-of-type {\n",
       "        vertical-align: middle;\n",
       "    }\n",
       "\n",
       "    .dataframe tbody tr th {\n",
       "        vertical-align: top;\n",
       "    }\n",
       "\n",
       "    .dataframe thead th {\n",
       "        text-align: right;\n",
       "    }\n",
       "</style>\n",
       "<table border=\"1\" class=\"dataframe\">\n",
       "  <thead>\n",
       "    <tr style=\"text-align: right;\">\n",
       "      <th></th>\n",
       "      <th>start</th>\n",
       "      <th>end</th>\n",
       "      <th>length</th>\n",
       "      <th>material</th>\n",
       "      <th>MoI</th>\n",
       "      <th>k</th>\n",
       "    </tr>\n",
       "  </thead>\n",
       "  <tbody>\n",
       "    <tr>\n",
       "      <th>0</th>\n",
       "      <td>0</td>\n",
       "      <td>1</td>\n",
       "      <td>3</td>\n",
       "      <td>2.100000e+11</td>\n",
       "      <td>3.000000e-07</td>\n",
       "      <td>[[28000.0, 42000.0, -28000.0, 42000.0], [42000...</td>\n",
       "    </tr>\n",
       "    <tr>\n",
       "      <th>1</th>\n",
       "      <td>1</td>\n",
       "      <td>2</td>\n",
       "      <td>3</td>\n",
       "      <td>2.100000e+11</td>\n",
       "      <td>3.000000e-07</td>\n",
       "      <td>[[28000.0, 42000.0, -28000.0, 42000.0], [42000...</td>\n",
       "    </tr>\n",
       "  </tbody>\n",
       "</table>\n",
       "</div>"
      ],
      "text/plain": [
       "   start  end  length      material           MoI  \\\n",
       "0      0    1       3  2.100000e+11  3.000000e-07   \n",
       "1      1    2       3  2.100000e+11  3.000000e-07   \n",
       "\n",
       "                                                   k  \n",
       "0  [[28000.0, 42000.0, -28000.0, 42000.0], [42000...  \n",
       "1  [[28000.0, 42000.0, -28000.0, 42000.0], [42000...  "
      ]
     },
     "execution_count": 167,
     "metadata": {},
     "output_type": "execute_result"
    }
   ],
   "source": [
    "def compute_localK(element):\n",
    "    L = element['length']\n",
    "    c = element['material']*element['MoI']/(L**3)\n",
    "    k = np.array([[12, 6*L, -12, 6*L],\n",
    "                [6*L, 4*L*L, -6*L, 2*L*L],\n",
    "                [-12, -6*L, 12, -6*L],\n",
    "                [6*L, 2*L*L, -6*L, 4*L*L]])*c\n",
    "    return k\n",
    "elements['k'] = elements.apply(compute_localK,axis=1)\n",
    "elements"
   ]
  },
  {
   "cell_type": "code",
   "execution_count": 169,
   "metadata": {},
   "outputs": [
    {
     "data": {
      "text/plain": [
       "array([[ 28000.,  42000., -28000.,  42000.,      0.,      0.],\n",
       "       [ 42000.,  84000., -42000.,  42000.,      0.,      0.],\n",
       "       [-28000., -42000.,  56000.,      0., -28000.,  42000.],\n",
       "       [ 42000.,  42000.,      0., 168000., -42000.,  42000.],\n",
       "       [     0.,      0., -28000., -42000.,  28000., -42000.],\n",
       "       [     0.,      0.,  42000.,  42000., -42000.,  84000.]])"
      ]
     },
     "execution_count": 169,
     "metadata": {},
     "output_type": "execute_result"
    }
   ],
   "source": [
    "def compute_globalK(element):\n",
    "    N = len(nodes)\n",
    "    indices = np.arange(N*2)\n",
    "    indices = indices.reshape(-1,2)\n",
    "\n",
    "    K = np.zeros([N*2,N*2])\n",
    "\n",
    "    start = element['start']\n",
    "    end = element['end']\n",
    "    indices = np.hstack([indices[start],indices[end]])\n",
    "    K[np.ix_(indices,indices)] = element['k']\n",
    "\n",
    "    return K\n",
    "K = elements.apply(compute_globalK,axis=1).sum()\n",
    "K  \n"
   ]
  },
  {
   "cell_type": "code",
   "execution_count": 170,
   "metadata": {},
   "outputs": [],
   "source": [
    "def partition_k(K, A, B):\n",
    "    KAA = K[np.ix_(A,A)]\n",
    "    KAB = K[np.ix_(A,B)]\n",
    "    KBA = K[np.ix_(B,A)]\n",
    "    KBB = K[np.ix_(B,B)]\n",
    "    return KAA, KAB, KBA, KBB\n",
    "\n",
    "U = nodes[['displacement','slope']].to_numpy()\n",
    "U = U.ravel()\n",
    "A = np.isnan(U)\n",
    "\n",
    "P = nodes[['load','moment']].to_numpy()\n",
    "P = P.ravel()\n",
    "B = np.isnan(P)\n",
    "\n",
    "KAA, KAB, KBA, KBB = partition_k(K,A,B)"
   ]
  },
  {
   "cell_type": "code",
   "execution_count": 171,
   "metadata": {},
   "outputs": [],
   "source": [
    "# known displacements, UB\n",
    "UB = U[B]\n",
    "# known loads, PA\n",
    "PA = P[A]\n",
    "\n",
    "UA = np.dot(np.linalg.inv(KAA),(PA - np.dot(KAB,UB)))\n",
    "U[A] = UA\n",
    "\n",
    "PB = np.dot(KBA,UA) + np.dot(KBB,UB)\n",
    "P[B] = PB"
   ]
  },
  {
   "cell_type": "code",
   "execution_count": 172,
   "metadata": {},
   "outputs": [
    {
     "data": {
      "text/html": [
       "<div>\n",
       "<style scoped>\n",
       "    .dataframe tbody tr th:only-of-type {\n",
       "        vertical-align: middle;\n",
       "    }\n",
       "\n",
       "    .dataframe tbody tr th {\n",
       "        vertical-align: top;\n",
       "    }\n",
       "\n",
       "    .dataframe thead th {\n",
       "        text-align: right;\n",
       "    }\n",
       "</style>\n",
       "<table border=\"1\" class=\"dataframe\">\n",
       "  <thead>\n",
       "    <tr style=\"text-align: right;\">\n",
       "      <th></th>\n",
       "      <th>coordinate</th>\n",
       "      <th>displacement</th>\n",
       "      <th>slope</th>\n",
       "      <th>load</th>\n",
       "      <th>moment</th>\n",
       "    </tr>\n",
       "  </thead>\n",
       "  <tbody>\n",
       "    <tr>\n",
       "      <th>0</th>\n",
       "      <td>0.0</td>\n",
       "      <td>0.000</td>\n",
       "      <td>0.000</td>\n",
       "      <td>10000.0</td>\n",
       "      <td>60000.0</td>\n",
       "    </tr>\n",
       "    <tr>\n",
       "      <th>1</th>\n",
       "      <td>1.5</td>\n",
       "      <td>-3.571</td>\n",
       "      <td>-2.143</td>\n",
       "      <td>0.0</td>\n",
       "      <td>0.0</td>\n",
       "    </tr>\n",
       "    <tr>\n",
       "      <th>2</th>\n",
       "      <td>3.0</td>\n",
       "      <td>-11.429</td>\n",
       "      <td>-2.857</td>\n",
       "      <td>-10000.0</td>\n",
       "      <td>0.0</td>\n",
       "    </tr>\n",
       "  </tbody>\n",
       "</table>\n",
       "</div>"
      ],
      "text/plain": [
       "   coordinate  displacement  slope     load   moment\n",
       "0         0.0         0.000  0.000  10000.0  60000.0\n",
       "1         1.5        -3.571 -2.143      0.0      0.0\n",
       "2         3.0       -11.429 -2.857 -10000.0      0.0"
      ]
     },
     "execution_count": 172,
     "metadata": {},
     "output_type": "execute_result"
    }
   ],
   "source": [
    "results = nodes.copy()\n",
    "results[['displacement','slope']] = U.reshape(-1,2)\n",
    "results[['load','moment']] = P.reshape(-1,2)\n",
    "results.round(3)"
   ]
  }
 ],
 "metadata": {
  "kernelspec": {
   "display_name": "Python 3",
   "language": "python",
   "name": "python3"
  },
  "language_info": {
   "codemirror_mode": {
    "name": "ipython",
    "version": 3
   },
   "file_extension": ".py",
   "mimetype": "text/x-python",
   "name": "python",
   "nbconvert_exporter": "python",
   "pygments_lexer": "ipython3",
   "version": "3.10.6"
  }
 },
 "nbformat": 4,
 "nbformat_minor": 2
}
