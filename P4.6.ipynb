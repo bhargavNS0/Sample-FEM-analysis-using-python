{
 "cells": [
  {
   "attachments": {
    "image.png": {
     "image/png": "[encoded data removed]"
    }
   },
   "cell_type": "markdown",
   "metadata": {},
   "source": [
    "![image.png](attachment:image.png)"
   ]
  },
  {
   "cell_type": "code",
   "execution_count": 132,
   "metadata": {},
   "outputs": [],
   "source": [
    "import numpy as np\n",
    "import pandas as pd"
   ]
  },
  {
   "cell_type": "code",
   "execution_count": 133,
   "metadata": {},
   "outputs": [
    {
     "data": {
      "text/html": [
       "<div>\n",
       "<style scoped>\n",
       "    .dataframe tbody tr th:only-of-type {\n",
       "        vertical-align: middle;\n",
       "    }\n",
       "\n",
       "    .dataframe tbody tr th {\n",
       "        vertical-align: top;\n",
       "    }\n",
       "\n",
       "    .dataframe thead th {\n",
       "        text-align: right;\n",
       "    }\n",
       "</style>\n",
       "<table border=\"1\" class=\"dataframe\">\n",
       "  <thead>\n",
       "    <tr style=\"text-align: right;\">\n",
       "      <th></th>\n",
       "      <th>coordinate</th>\n",
       "      <th>displacement</th>\n",
       "      <th>slope</th>\n",
       "      <th>load</th>\n",
       "      <th>moment</th>\n",
       "    </tr>\n",
       "  </thead>\n",
       "  <tbody>\n",
       "    <tr>\n",
       "      <th>0</th>\n",
       "      <td>0</td>\n",
       "      <td>0.0</td>\n",
       "      <td>0.0</td>\n",
       "      <td>NaN</td>\n",
       "      <td>NaN</td>\n",
       "    </tr>\n",
       "    <tr>\n",
       "      <th>1</th>\n",
       "      <td>240</td>\n",
       "      <td>-0.5</td>\n",
       "      <td>NaN</td>\n",
       "      <td>NaN</td>\n",
       "      <td>0.0</td>\n",
       "    </tr>\n",
       "    <tr>\n",
       "      <th>2</th>\n",
       "      <td>480</td>\n",
       "      <td>NaN</td>\n",
       "      <td>NaN</td>\n",
       "      <td>-1000.0</td>\n",
       "      <td>0.0</td>\n",
       "    </tr>\n",
       "  </tbody>\n",
       "</table>\n",
       "</div>"
      ],
      "text/plain": [
       "   coordinate  displacement  slope    load  moment\n",
       "0           0           0.0    0.0     NaN     NaN\n",
       "1         240          -0.5    NaN     NaN     0.0\n",
       "2         480           NaN    NaN -1000.0     0.0"
      ]
     },
     "execution_count": 133,
     "metadata": {},
     "output_type": "execute_result"
    }
   ],
   "source": [
    "# creating nodes\n",
    "columns = ['coordinate','displacement','slope','load','moment']\n",
    "data = [[0,0,0,np.nan,np.nan],\n",
    "        [240,-0.5,np.nan,np.nan,0],\n",
    "        [480,np.nan,np.nan,-1000,0]]\n",
    "nodes = pd.DataFrame(data,columns=columns)\n",
    "nodes"
   ]
  },
  {
   "cell_type": "code",
   "execution_count": 134,
   "metadata": {},
   "outputs": [
    {
     "data": {
      "text/html": [
       "<div>\n",
       "<style scoped>\n",
       "    .dataframe tbody tr th:only-of-type {\n",
       "        vertical-align: middle;\n",
       "    }\n",
       "\n",
       "    .dataframe tbody tr th {\n",
       "        vertical-align: top;\n",
       "    }\n",
       "\n",
       "    .dataframe thead th {\n",
       "        text-align: right;\n",
       "    }\n",
       "</style>\n",
       "<table border=\"1\" class=\"dataframe\">\n",
       "  <thead>\n",
       "    <tr style=\"text-align: right;\">\n",
       "      <th></th>\n",
       "      <th>start</th>\n",
       "      <th>end</th>\n",
       "      <th>length</th>\n",
       "      <th>material</th>\n",
       "      <th>MoI</th>\n",
       "    </tr>\n",
       "  </thead>\n",
       "  <tbody>\n",
       "    <tr>\n",
       "      <th>0</th>\n",
       "      <td>0</td>\n",
       "      <td>1</td>\n",
       "      <td>240</td>\n",
       "      <td>30000000.0</td>\n",
       "      <td>100</td>\n",
       "    </tr>\n",
       "    <tr>\n",
       "      <th>1</th>\n",
       "      <td>1</td>\n",
       "      <td>2</td>\n",
       "      <td>240</td>\n",
       "      <td>30000000.0</td>\n",
       "      <td>100</td>\n",
       "    </tr>\n",
       "  </tbody>\n",
       "</table>\n",
       "</div>"
      ],
      "text/plain": [
       "   start  end  length    material  MoI\n",
       "0      0    1     240  30000000.0  100\n",
       "1      1    2     240  30000000.0  100"
      ]
     },
     "execution_count": 134,
     "metadata": {},
     "output_type": "execute_result"
    }
   ],
   "source": [
    "# creating elements\n",
    "columns = ['start','end','length','material','MoI']\n",
    "data = [[0,1,240,30e6,100],\n",
    "        [1,2,240,30e6,100]]\n",
    "elements = pd.DataFrame(data,columns=columns)\n",
    "elements"
   ]
  },
  {
   "cell_type": "code",
   "execution_count": 135,
   "metadata": {},
   "outputs": [
    {
     "data": {
      "text/html": [
       "<div>\n",
       "<style scoped>\n",
       "    .dataframe tbody tr th:only-of-type {\n",
       "        vertical-align: middle;\n",
       "    }\n",
       "\n",
       "    .dataframe tbody tr th {\n",
       "        vertical-align: top;\n",
       "    }\n",
       "\n",
       "    .dataframe thead th {\n",
       "        text-align: right;\n",
       "    }\n",
       "</style>\n",
       "<table border=\"1\" class=\"dataframe\">\n",
       "  <thead>\n",
       "    <tr style=\"text-align: right;\">\n",
       "      <th></th>\n",
       "      <th>start</th>\n",
       "      <th>end</th>\n",
       "      <th>length</th>\n",
       "      <th>material</th>\n",
       "      <th>MoI</th>\n",
       "      <th>k</th>\n",
       "    </tr>\n",
       "  </thead>\n",
       "  <tbody>\n",
       "    <tr>\n",
       "      <th>0</th>\n",
       "      <td>0</td>\n",
       "      <td>1</td>\n",
       "      <td>240</td>\n",
       "      <td>30000000.0</td>\n",
       "      <td>100</td>\n",
       "      <td>[[2604.1666666666665, 312500.0, -2604.16666666...</td>\n",
       "    </tr>\n",
       "    <tr>\n",
       "      <th>1</th>\n",
       "      <td>1</td>\n",
       "      <td>2</td>\n",
       "      <td>240</td>\n",
       "      <td>30000000.0</td>\n",
       "      <td>100</td>\n",
       "      <td>[[2604.1666666666665, 312500.0, -2604.16666666...</td>\n",
       "    </tr>\n",
       "  </tbody>\n",
       "</table>\n",
       "</div>"
      ],
      "text/plain": [
       "   start  end  length    material  MoI  \\\n",
       "0      0    1     240  30000000.0  100   \n",
       "1      1    2     240  30000000.0  100   \n",
       "\n",
       "                                                   k  \n",
       "0  [[2604.1666666666665, 312500.0, -2604.16666666...  \n",
       "1  [[2604.1666666666665, 312500.0, -2604.16666666...  "
      ]
     },
     "execution_count": 135,
     "metadata": {},
     "output_type": "execute_result"
    }
   ],
   "source": [
    "# creating local stiffness matrix for each element\n",
    "def compute_localK(element):\n",
    "    L = element['length']\n",
    "    c = element['material']*element['MoI']/(L**3)\n",
    "    k = np.array([[12, 6*L, -12, 6*L],\n",
    "                [6*L, 4*L*L, -6*L, 2*L*L],\n",
    "                [-12, -6*L, 12, -6*L],\n",
    "                [6*L, 2*L*L, -6*L, 4*L*L]])*c\n",
    "    return k\n",
    "elements['k'] = elements.apply(compute_localK,axis=1)\n",
    "elements"
   ]
  },
  {
   "cell_type": "code",
   "execution_count": 136,
   "metadata": {},
   "outputs": [
    {
     "data": {
      "text/plain": [
       "array([[ 2.60416667e+03,  3.12500000e+05, -2.60416667e+03,\n",
       "         3.12500000e+05,  0.00000000e+00,  0.00000000e+00],\n",
       "       [ 3.12500000e+05,  5.00000000e+07, -3.12500000e+05,\n",
       "         2.50000000e+07,  0.00000000e+00,  0.00000000e+00],\n",
       "       [-2.60416667e+03, -3.12500000e+05,  5.20833333e+03,\n",
       "         0.00000000e+00, -2.60416667e+03,  3.12500000e+05],\n",
       "       [ 3.12500000e+05,  2.50000000e+07,  0.00000000e+00,\n",
       "         1.00000000e+08, -3.12500000e+05,  2.50000000e+07],\n",
       "       [ 0.00000000e+00,  0.00000000e+00, -2.60416667e+03,\n",
       "        -3.12500000e+05,  2.60416667e+03, -3.12500000e+05],\n",
       "       [ 0.00000000e+00,  0.00000000e+00,  3.12500000e+05,\n",
       "         2.50000000e+07, -3.12500000e+05,  5.00000000e+07]])"
      ]
     },
     "execution_count": 136,
     "metadata": {},
     "output_type": "execute_result"
    }
   ],
   "source": [
    "def compute_globalK(element):\n",
    "    N = len(nodes)\n",
    "    indices = np.arange(N*2)\n",
    "    indices = indices.reshape(-1,2)\n",
    "\n",
    "    K = np.zeros([N*2,N*2])\n",
    "\n",
    "    start = element['start']\n",
    "    end = element['end']\n",
    "    indices = np.hstack([indices[start],indices[end]])\n",
    "    K[np.ix_(indices,indices)] = element['k']\n",
    "\n",
    "    return K\n",
    "K = elements.apply(compute_globalK,axis=1).sum()\n",
    "K  "
   ]
  },
  {
   "cell_type": "code",
   "execution_count": 137,
   "metadata": {},
   "outputs": [],
   "source": [
    "def partition_k(K, A, B):\n",
    "    KAA = K[np.ix_(A,A)]\n",
    "    KAB = K[np.ix_(A,B)]\n",
    "    KBA = K[np.ix_(B,A)]\n",
    "    KBB = K[np.ix_(B,B)]\n",
    "    return KAA, KAB, KBA, KBB\n",
    "\n",
    "U = nodes[['displacement','slope']].to_numpy()\n",
    "U = U.ravel()\n",
    "A = np.isnan(U)\n",
    "\n",
    "P = nodes[['load','moment']].to_numpy()\n",
    "P = P.ravel()\n",
    "B = np.isnan(P)\n",
    "\n",
    "KAA, KAB, KBA, KBB = partition_k(K,A,B)"
   ]
  },
  {
   "cell_type": "code",
   "execution_count": 138,
   "metadata": {},
   "outputs": [
    {
     "data": {
      "text/plain": [
       "array([ -1174.47916667, -41875.        ,   2174.47916667])"
      ]
     },
     "execution_count": 138,
     "metadata": {},
     "output_type": "execute_result"
    }
   ],
   "source": [
    "# known displacements, UB\n",
    "UB = U[B]\n",
    "# known loads, PA\n",
    "PA = P[A]\n",
    "\n",
    "UA = np.dot(np.linalg.inv(KAA),(PA - np.dot(KAB,UB)))\n",
    "U[A] = UA\n",
    "\n",
    "PB = np.dot(KBA,UA) + np.dot(KBB,UB)\n",
    "P[B] = PB\n",
    "PB"
   ]
  },
  {
   "cell_type": "code",
   "execution_count": 139,
   "metadata": {},
   "outputs": [
    {
     "data": {
      "text/html": [
       "<div>\n",
       "<style scoped>\n",
       "    .dataframe tbody tr th:only-of-type {\n",
       "        vertical-align: middle;\n",
       "    }\n",
       "\n",
       "    .dataframe tbody tr th {\n",
       "        vertical-align: top;\n",
       "    }\n",
       "\n",
       "    .dataframe thead th {\n",
       "        text-align: right;\n",
       "    }\n",
       "</style>\n",
       "<table border=\"1\" class=\"dataframe\">\n",
       "  <thead>\n",
       "    <tr style=\"text-align: right;\">\n",
       "      <th></th>\n",
       "      <th>coordinate</th>\n",
       "      <th>displacement</th>\n",
       "      <th>slope</th>\n",
       "      <th>load</th>\n",
       "      <th>moment</th>\n",
       "    </tr>\n",
       "  </thead>\n",
       "  <tbody>\n",
       "    <tr>\n",
       "      <th>0</th>\n",
       "      <td>0</td>\n",
       "      <td>0.000</td>\n",
       "      <td>0.000</td>\n",
       "      <td>-1174.479</td>\n",
       "      <td>-41875.0</td>\n",
       "    </tr>\n",
       "    <tr>\n",
       "      <th>1</th>\n",
       "      <td>240</td>\n",
       "      <td>-0.500</td>\n",
       "      <td>-0.008</td>\n",
       "      <td>2174.479</td>\n",
       "      <td>0.0</td>\n",
       "    </tr>\n",
       "    <tr>\n",
       "      <th>2</th>\n",
       "      <td>480</td>\n",
       "      <td>-3.938</td>\n",
       "      <td>-0.018</td>\n",
       "      <td>-1000.000</td>\n",
       "      <td>0.0</td>\n",
       "    </tr>\n",
       "  </tbody>\n",
       "</table>\n",
       "</div>"
      ],
      "text/plain": [
       "   coordinate  displacement  slope      load   moment\n",
       "0           0         0.000  0.000 -1174.479 -41875.0\n",
       "1         240        -0.500 -0.008  2174.479      0.0\n",
       "2         480        -3.938 -0.018 -1000.000      0.0"
      ]
     },
     "execution_count": 139,
     "metadata": {},
     "output_type": "execute_result"
    }
   ],
   "source": [
    "results = nodes.copy()\n",
    "results[['displacement','slope']] = U.reshape(-1,2)\n",
    "results[['load','moment']] = P.reshape(-1,2)\n",
    "results.round(3)"
   ]
  },
  {
   "cell_type": "code",
   "execution_count": 140,
   "metadata": {},
   "outputs": [
    {
     "data": {
      "image/png": "[encoded data removed]",
      "text/plain": [
       "<Figure size 640x480 with 1 Axes>"
      ]
     },
     "metadata": {},
     "output_type": "display_data"
    }
   ],
   "source": [
    "import matplotlib.pyplot as plt\n",
    "N = len(nodes)\n",
    "y = np.zeros([N])\n",
    "plt.plot(results['coordinate'],y,'.-')\n",
    "\n",
    "plt.plot(results['coordinate'],results['displacement'],'r.-')\n",
    "\n",
    "plt.show()"
   ]
  }
 ],
 "metadata": {
  "kernelspec": {
   "display_name": "Python 3",
   "language": "python",
   "name": "python3"
  },
  "language_info": {
   "codemirror_mode": {
    "name": "ipython",
    "version": 3
   },
   "file_extension": ".py",
   "mimetype": "text/x-python",
   "name": "python",
   "nbconvert_exporter": "python",
   "pygments_lexer": "ipython3",
   "version": "3.10.6"
  }
 },
 "nbformat": 4,
 "nbformat_minor": 2
}
