{
 "cells": [
  {
   "cell_type": "code",
   "execution_count": 18,
   "metadata": {},
   "outputs": [],
   "source": [
    "import pandas as pd \n",
    "import numpy as np"
   ]
  },
  {
   "cell_type": "markdown",
   "metadata": {},
   "source": [
    "Creating elements and nodes"
   ]
  },
  {
   "cell_type": "code",
   "execution_count": 19,
   "metadata": {},
   "outputs": [
    {
     "data": {
      "text/html": [
       "<div>\n",
       "<style scoped>\n",
       "    .dataframe tbody tr th:only-of-type {\n",
       "        vertical-align: middle;\n",
       "    }\n",
       "\n",
       "    .dataframe tbody tr th {\n",
       "        vertical-align: top;\n",
       "    }\n",
       "\n",
       "    .dataframe thead th {\n",
       "        text-align: right;\n",
       "    }\n",
       "</style>\n",
       "<table border=\"1\" class=\"dataframe\">\n",
       "  <thead>\n",
       "    <tr style=\"text-align: right;\">\n",
       "      <th></th>\n",
       "      <th>start</th>\n",
       "      <th>end</th>\n",
       "      <th>area</th>\n",
       "      <th>length</th>\n",
       "      <th>E</th>\n",
       "      <th>angle</th>\n",
       "    </tr>\n",
       "  </thead>\n",
       "  <tbody>\n",
       "    <tr>\n",
       "      <th>0</th>\n",
       "      <td>0</td>\n",
       "      <td>1</td>\n",
       "      <td>0.0004</td>\n",
       "      <td>2</td>\n",
       "      <td>2.100000e+11</td>\n",
       "      <td>60</td>\n",
       "    </tr>\n",
       "  </tbody>\n",
       "</table>\n",
       "</div>"
      ],
      "text/plain": [
       "   start  end    area  length             E  angle\n",
       "0      0    1  0.0004       2  2.100000e+11     60"
      ]
     },
     "execution_count": 19,
     "metadata": {},
     "output_type": "execute_result"
    }
   ],
   "source": [
    "columns = ['start','end','area','length','E','angle']\n",
    "data = [[0,1,4e-4,2,210e9,60]]\n",
    "elements = pd.DataFrame(data=data,columns=columns)\n",
    "elements"
   ]
  },
  {
   "cell_type": "code",
   "execution_count": 20,
   "metadata": {},
   "outputs": [
    {
     "data": {
      "text/html": [
       "<div>\n",
       "<style scoped>\n",
       "    .dataframe tbody tr th:only-of-type {\n",
       "        vertical-align: middle;\n",
       "    }\n",
       "\n",
       "    .dataframe tbody tr th {\n",
       "        vertical-align: top;\n",
       "    }\n",
       "\n",
       "    .dataframe thead th {\n",
       "        text-align: right;\n",
       "    }\n",
       "</style>\n",
       "<table border=\"1\" class=\"dataframe\">\n",
       "  <thead>\n",
       "    <tr style=\"text-align: right;\">\n",
       "      <th></th>\n",
       "      <th>x</th>\n",
       "      <th>y</th>\n",
       "      <th>dx</th>\n",
       "      <th>dy</th>\n",
       "      <th>fx</th>\n",
       "      <th>fy</th>\n",
       "    </tr>\n",
       "  </thead>\n",
       "  <tbody>\n",
       "    <tr>\n",
       "      <th>0</th>\n",
       "      <td>0.0</td>\n",
       "      <td>0.000000</td>\n",
       "      <td>0.00025</td>\n",
       "      <td>0.00000</td>\n",
       "      <td>NaN</td>\n",
       "      <td>0</td>\n",
       "    </tr>\n",
       "    <tr>\n",
       "      <th>1</th>\n",
       "      <td>1.0</td>\n",
       "      <td>1.732051</td>\n",
       "      <td>0.00050</td>\n",
       "      <td>0.00075</td>\n",
       "      <td>10000.0</td>\n",
       "      <td>0</td>\n",
       "    </tr>\n",
       "  </tbody>\n",
       "</table>\n",
       "</div>"
      ],
      "text/plain": [
       "     x         y       dx       dy       fx  fy\n",
       "0  0.0  0.000000  0.00025  0.00000      NaN   0\n",
       "1  1.0  1.732051  0.00050  0.00075  10000.0   0"
      ]
     },
     "execution_count": 20,
     "metadata": {},
     "output_type": "execute_result"
    }
   ],
   "source": [
    "from math import sin,cos,pi\n",
    "e = elements.loc[0]\n",
    "theta = e['angle']*pi/180 # converted into radians\n",
    "length = e['length']\n",
    "x = (length*cos(theta))\n",
    "columns = ['x','y','dx','dy','fx','fy']\n",
    "data = [[0,0,0.25e-3,0,np.nan,0],[x,length*sin(theta),0.5e-3,0.75e-3,10**4,0]]\n",
    "nodes = pd.DataFrame(data=data,columns=columns)\n",
    "nodes"
   ]
  },
  {
   "cell_type": "markdown",
   "metadata": {},
   "source": [
    "Global siffness matrix"
   ]
  },
  {
   "cell_type": "code",
   "execution_count": 21,
   "metadata": {},
   "outputs": [
    {
     "name": "stdout",
     "output_type": "stream",
     "text": [
      "[[ 10500000.00000001  18186533.47947321 -10500000.00000001\n",
      "  -18186533.47947321]\n",
      " [ 18186533.47947321  31500000.         -18186533.47947321\n",
      "  -31500000.        ]\n",
      " [-10500000.00000001 -23043564.92156016  10500000.00000001\n",
      "   18186533.47947321]\n",
      " [-18186533.47947321 -31500000.          18186533.47947321\n",
      "   31500000.        ]]\n"
     ]
    }
   ],
   "source": [
    "n = len(nodes)*2 # each node has two degree of freedom\n",
    "T = np.zeros([n,n])\n",
    "C,S = cos(theta),sin(theta)\n",
    "stiffness = e['area']*e['E']/e['length']\n",
    "\n",
    "K = stiffness*np.array([[C**2, C*S, -C**2, -C*S],\n",
    "                        [C*S, S**2, -C*S, -S**2],\n",
    "                        [-C**2, -C**S, C**2, C*S],\n",
    "                        [-C*S, -S**2, C*S, S**2]])\n",
    "print(K)"
   ]
  },
  {
   "cell_type": "markdown",
   "metadata": {},
   "source": [
    "Computation of stress"
   ]
  },
  {
   "cell_type": "code",
   "execution_count": 22,
   "metadata": {},
   "outputs": [
    {
     "name": "stdout",
     "output_type": "stream",
     "text": [
      "[-5.25000000e+10 -9.09326674e+10  5.25000000e+10  9.09326674e+10]\n",
      "[0.00025 0.      0.0005  0.00075]\n"
     ]
    },
    {
     "data": {
      "text/plain": [
       "8.132450054802455"
      ]
     },
     "execution_count": 22,
     "metadata": {},
     "output_type": "execute_result"
    }
   ],
   "source": [
    "c = (e['E']/e['length'])*np.array([-C,-S,C,S])\n",
    "n1 = nodes.loc[0]\n",
    "d1 = n1['dx':'dy']\n",
    "n2 = nodes.loc[1]\n",
    "d2 = n2['dx':'dy']\n",
    "d = np.r_[d1,d2]\n",
    "\n",
    "print(c)\n",
    "print(d)\n",
    "stress = np.dot(d,c)/10e6\n",
    "stress"
   ]
  }
 ],
 "metadata": {
  "kernelspec": {
   "display_name": "Python 3",
   "language": "python",
   "name": "python3"
  },
  "language_info": {
   "codemirror_mode": {
    "name": "ipython",
    "version": 3
   },
   "file_extension": ".py",
   "mimetype": "text/x-python",
   "name": "python",
   "nbconvert_exporter": "python",
   "pygments_lexer": "ipython3",
   "version": "3.10.6"
  }
 },
 "nbformat": 4,
 "nbformat_minor": 2
}
