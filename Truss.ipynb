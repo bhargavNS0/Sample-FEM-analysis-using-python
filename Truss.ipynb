{
 "cells": [
  {
   "cell_type": "code",
   "execution_count": 1,
   "metadata": {},
   "outputs": [],
   "source": [
    "import numpy as np\n",
    "import pandas as pd"
   ]
  },
  {
   "cell_type": "markdown",
   "metadata": {},
   "source": [
    "creating nodes"
   ]
  },
  {
   "cell_type": "code",
   "execution_count": 2,
   "metadata": {},
   "outputs": [
    {
     "data": {
      "text/html": [
       "<div>\n",
       "<style scoped>\n",
       "    .dataframe tbody tr th:only-of-type {\n",
       "        vertical-align: middle;\n",
       "    }\n",
       "\n",
       "    .dataframe tbody tr th {\n",
       "        vertical-align: top;\n",
       "    }\n",
       "\n",
       "    .dataframe thead th {\n",
       "        text-align: right;\n",
       "    }\n",
       "</style>\n",
       "<table border=\"1\" class=\"dataframe\">\n",
       "  <thead>\n",
       "    <tr style=\"text-align: right;\">\n",
       "      <th></th>\n",
       "      <th>coordinate_x</th>\n",
       "      <th>coordinate_y</th>\n",
       "      <th>displacement_x</th>\n",
       "      <th>displacement_y</th>\n",
       "      <th>load_x</th>\n",
       "      <th>load_y</th>\n",
       "    </tr>\n",
       "  </thead>\n",
       "  <tbody>\n",
       "    <tr>\n",
       "      <th>0</th>\n",
       "      <td>0</td>\n",
       "      <td>0</td>\n",
       "      <td>0.0</td>\n",
       "      <td>0.0</td>\n",
       "      <td>NaN</td>\n",
       "      <td>NaN</td>\n",
       "    </tr>\n",
       "    <tr>\n",
       "      <th>1</th>\n",
       "      <td>20</td>\n",
       "      <td>0</td>\n",
       "      <td>NaN</td>\n",
       "      <td>0.0</td>\n",
       "      <td>0.0</td>\n",
       "      <td>NaN</td>\n",
       "    </tr>\n",
       "    <tr>\n",
       "      <th>2</th>\n",
       "      <td>0</td>\n",
       "      <td>20</td>\n",
       "      <td>NaN</td>\n",
       "      <td>NaN</td>\n",
       "      <td>500.0</td>\n",
       "      <td>0.0</td>\n",
       "    </tr>\n",
       "  </tbody>\n",
       "</table>\n",
       "</div>"
      ],
      "text/plain": [
       "   coordinate_x  coordinate_y  displacement_x  displacement_y  load_x  load_y\n",
       "0             0             0             0.0             0.0     NaN     NaN\n",
       "1            20             0             NaN             0.0     0.0     NaN\n",
       "2             0            20             NaN             NaN   500.0     0.0"
      ]
     },
     "execution_count": 2,
     "metadata": {},
     "output_type": "execute_result"
    }
   ],
   "source": [
    "columns = ['coordinate_x','coordinate_y','displacement_x','displacement_y','load_x','load_y']\n",
    "data = [[0,0,0,0,np.nan,np.nan],\n",
    "        [20,0,np.nan,0,0,np.nan],\n",
    "        [0,20,np.nan,np.nan,500,0]]\n",
    "nodes = pd.DataFrame(data,columns=columns)\n",
    "nodes"
   ]
  },
  {
   "cell_type": "markdown",
   "metadata": {},
   "source": [
    "creating elements"
   ]
  },
  {
   "cell_type": "code",
   "execution_count": 3,
   "metadata": {},
   "outputs": [
    {
     "data": {
      "text/html": [
       "<div>\n",
       "<style scoped>\n",
       "    .dataframe tbody tr th:only-of-type {\n",
       "        vertical-align: middle;\n",
       "    }\n",
       "\n",
       "    .dataframe tbody tr th {\n",
       "        vertical-align: top;\n",
       "    }\n",
       "\n",
       "    .dataframe thead th {\n",
       "        text-align: right;\n",
       "    }\n",
       "</style>\n",
       "<table border=\"1\" class=\"dataframe\">\n",
       "  <thead>\n",
       "    <tr style=\"text-align: right;\">\n",
       "      <th></th>\n",
       "      <th>start</th>\n",
       "      <th>end</th>\n",
       "      <th>area</th>\n",
       "      <th>material</th>\n",
       "    </tr>\n",
       "  </thead>\n",
       "  <tbody>\n",
       "    <tr>\n",
       "      <th>0</th>\n",
       "      <td>0</td>\n",
       "      <td>1</td>\n",
       "      <td>0.000002</td>\n",
       "      <td>1.000000e+10</td>\n",
       "    </tr>\n",
       "    <tr>\n",
       "      <th>1</th>\n",
       "      <td>1</td>\n",
       "      <td>2</td>\n",
       "      <td>0.000002</td>\n",
       "      <td>1.200000e+10</td>\n",
       "    </tr>\n",
       "    <tr>\n",
       "      <th>2</th>\n",
       "      <td>2</td>\n",
       "      <td>0</td>\n",
       "      <td>0.000003</td>\n",
       "      <td>1.000000e+10</td>\n",
       "    </tr>\n",
       "  </tbody>\n",
       "</table>\n",
       "</div>"
      ],
      "text/plain": [
       "   start  end      area      material\n",
       "0      0    1  0.000002  1.000000e+10\n",
       "1      1    2  0.000002  1.200000e+10\n",
       "2      2    0  0.000003  1.000000e+10"
      ]
     },
     "execution_count": 3,
     "metadata": {},
     "output_type": "execute_result"
    }
   ],
   "source": [
    "columns = ['start','end','area','material']\n",
    "data = [[0, 1, 2e-6, 10e9],\n",
    "        [1, 2, 2e-6, 12e9],\n",
    "        [2, 0, 3e-6, 10e9]]\n",
    "elements = pd.DataFrame(data,columns=columns)\n",
    "elements"
   ]
  },
  {
   "cell_type": "markdown",
   "metadata": {},
   "source": [
    "Finding length and global stiffness matrix"
   ]
  },
  {
   "cell_type": "code",
   "execution_count": 4,
   "metadata": {},
   "outputs": [
    {
     "data": {
      "text/html": [
       "<div>\n",
       "<style scoped>\n",
       "    .dataframe tbody tr th:only-of-type {\n",
       "        vertical-align: middle;\n",
       "    }\n",
       "\n",
       "    .dataframe tbody tr th {\n",
       "        vertical-align: top;\n",
       "    }\n",
       "\n",
       "    .dataframe thead th {\n",
       "        text-align: right;\n",
       "    }\n",
       "</style>\n",
       "<table border=\"1\" class=\"dataframe\">\n",
       "  <thead>\n",
       "    <tr style=\"text-align: right;\">\n",
       "      <th></th>\n",
       "      <th>start</th>\n",
       "      <th>end</th>\n",
       "      <th>area</th>\n",
       "      <th>material</th>\n",
       "      <th>length</th>\n",
       "      <th>stiffness</th>\n",
       "      <th>k</th>\n",
       "    </tr>\n",
       "  </thead>\n",
       "  <tbody>\n",
       "    <tr>\n",
       "      <th>0</th>\n",
       "      <td>0</td>\n",
       "      <td>1</td>\n",
       "      <td>0.000002</td>\n",
       "      <td>1.000000e+10</td>\n",
       "      <td>20.000000</td>\n",
       "      <td>1000.000000</td>\n",
       "      <td>[[1.0, 0.0, -1.0, -0.0], [0.0, 0.0, -0.0, -0.0...</td>\n",
       "    </tr>\n",
       "    <tr>\n",
       "      <th>1</th>\n",
       "      <td>1</td>\n",
       "      <td>2</td>\n",
       "      <td>0.000002</td>\n",
       "      <td>1.200000e+10</td>\n",
       "      <td>28.284271</td>\n",
       "      <td>848.528137</td>\n",
       "      <td>[[0.4999999999999999, -0.4999999999999999, -0....</td>\n",
       "    </tr>\n",
       "    <tr>\n",
       "      <th>2</th>\n",
       "      <td>2</td>\n",
       "      <td>0</td>\n",
       "      <td>0.000003</td>\n",
       "      <td>1.000000e+10</td>\n",
       "      <td>20.000000</td>\n",
       "      <td>1500.000000</td>\n",
       "      <td>[[0.0, -0.0, -0.0, 0.0], [-0.0, 1.0, 0.0, -1.0...</td>\n",
       "    </tr>\n",
       "  </tbody>\n",
       "</table>\n",
       "</div>"
      ],
      "text/plain": [
       "   start  end      area      material     length    stiffness  \\\n",
       "0      0    1  0.000002  1.000000e+10  20.000000  1000.000000   \n",
       "1      1    2  0.000002  1.200000e+10  28.284271   848.528137   \n",
       "2      2    0  0.000003  1.000000e+10  20.000000  1500.000000   \n",
       "\n",
       "                                                   k  \n",
       "0  [[1.0, 0.0, -1.0, -0.0], [0.0, 0.0, -0.0, -0.0...  \n",
       "1  [[0.4999999999999999, -0.4999999999999999, -0....  \n",
       "2  [[0.0, -0.0, -0.0, 0.0], [-0.0, 1.0, 0.0, -1.0...  "
      ]
     },
     "execution_count": 4,
     "metadata": {},
     "output_type": "execute_result"
    }
   ],
   "source": [
    "def compute(element):\n",
    "    start = element['start']\n",
    "    end = element['end']\n",
    "    startX = nodes.loc[start,'coordinate_x']\n",
    "    endX = nodes.loc[end,'coordinate_x']\n",
    "    deltaX = (endX-startX)\n",
    "\n",
    "    startY = nodes.loc[start,'coordinate_y']\n",
    "    endY = nodes.loc[end,'coordinate_y']\n",
    "    deltaY = (endY-startY)\n",
    "    length = np.sqrt(deltaX**2 + deltaY**2)\n",
    "\n",
    "    stiffness = element['area']*element['material']/length\n",
    "\n",
    "    c = deltaX/length\n",
    "    s = deltaY/length\n",
    "    \n",
    "    k = np.array([[c*c, c*s, -c*c, -c*s],\n",
    "                  [c*s, s*s, -c*s, -s*s],\n",
    "                  [-c*c, -c*s, c*c, c*s],\n",
    "                  [-c*s, -s*s, c*s, s*s]])  \n",
    "    \n",
    "    return length, stiffness, k\n",
    "elements[['length','stiffness','k']] = elements.apply(compute, axis=1, result_type='expand')\n",
    "elements"
   ]
  },
  {
   "cell_type": "code",
   "execution_count": 5,
   "metadata": {},
   "outputs": [
    {
     "data": {
      "text/plain": [
       "array([[ 1000.,     0., -1000.,     0.,     0.,     0.],\n",
       "       [    0.,  1500.,     0.,     0.,     0., -1500.],\n",
       "       [-1000.,     0.,  1424.,  -424.,  -424.,   424.],\n",
       "       [    0.,     0.,  -424.,   424.,   424.,  -424.],\n",
       "       [    0.,     0.,  -424.,   424.,   424.,  -424.],\n",
       "       [    0., -1500.,   424.,  -424.,  -424.,  1924.]])"
      ]
     },
     "execution_count": 5,
     "metadata": {},
     "output_type": "execute_result"
    }
   ],
   "source": [
    "def compute_globalK(element):\n",
    "    N = len(nodes)\n",
    "    indices = np.arange(N*2)\n",
    "    indices = indices.reshape(-1,2)\n",
    "    K = np.zeros([N*2,N*2])\n",
    "    start = element['start']\n",
    "    end = element['end']\n",
    "    indices = np.hstack([indices[start],indices[end]])\n",
    "    K[np.ix_(indices,indices)] = element['stiffness']*element['k']\n",
    "    return K\n",
    "K = elements.apply(compute_globalK,axis=1).sum()\n",
    "K.round()"
   ]
  },
  {
   "cell_type": "markdown",
   "metadata": {},
   "source": [
    "Solving element equations"
   ]
  },
  {
   "cell_type": "code",
   "execution_count": 6,
   "metadata": {},
   "outputs": [],
   "source": [
    "def partition_k(K,A,B):\n",
    "    KAA = K[np.ix_(A,A)]\n",
    "    KAB = K[np.ix_(A,B)]\n",
    "    KBA = K[np.ix_(B,A)]\n",
    "    KBB = K[np.ix_(B,B)]\n",
    "    return KAA, KAB, KBA, KBB\n",
    "\n",
    "U = nodes[['displacement_x','displacement_y']].to_numpy()\n",
    "U = U.ravel() # converts into 1d row matrix\n",
    "A = np.isnan(U)\n",
    "\n",
    "P = nodes[['load_x','load_y']].to_numpy()\n",
    "P = P.ravel()\n",
    "B = np.isnan(P)\n",
    "\n",
    "KAA, KAB, KBA, KBB = partition_k(K, A, B)"
   ]
  },
  {
   "cell_type": "code",
   "execution_count": 7,
   "metadata": {},
   "outputs": [],
   "source": [
    "# known displacement, UB\n",
    "UB = U[B]\n",
    "# known load, PA\n",
    "PA = P[A]\n",
    "\n",
    "UA = np.dot(np.linalg.inv(KAA),(PA - np.dot(KAB,UB)))\n",
    "U[A] = UA\n",
    "\n",
    "PB = np.dot(KBA,UA) + np.dot(KBB,UB)\n",
    "P[B] = PB"
   ]
  },
  {
   "cell_type": "markdown",
   "metadata": {},
   "source": [
    "Post processing"
   ]
  },
  {
   "cell_type": "code",
   "execution_count": 8,
   "metadata": {},
   "outputs": [
    {
     "data": {
      "text/html": [
       "<div>\n",
       "<style scoped>\n",
       "    .dataframe tbody tr th:only-of-type {\n",
       "        vertical-align: middle;\n",
       "    }\n",
       "\n",
       "    .dataframe tbody tr th {\n",
       "        vertical-align: top;\n",
       "    }\n",
       "\n",
       "    .dataframe thead th {\n",
       "        text-align: right;\n",
       "    }\n",
       "</style>\n",
       "<table border=\"1\" class=\"dataframe\">\n",
       "  <thead>\n",
       "    <tr style=\"text-align: right;\">\n",
       "      <th></th>\n",
       "      <th>coordinate_x</th>\n",
       "      <th>coordinate_y</th>\n",
       "      <th>displacement_x</th>\n",
       "      <th>displacement_y</th>\n",
       "      <th>load_x</th>\n",
       "      <th>load_y</th>\n",
       "    </tr>\n",
       "  </thead>\n",
       "  <tbody>\n",
       "    <tr>\n",
       "      <th>0</th>\n",
       "      <td>0</td>\n",
       "      <td>0</td>\n",
       "      <td>0.000000</td>\n",
       "      <td>0.000000</td>\n",
       "      <td>-500.0</td>\n",
       "      <td>-500.0</td>\n",
       "    </tr>\n",
       "    <tr>\n",
       "      <th>1</th>\n",
       "      <td>20</td>\n",
       "      <td>0</td>\n",
       "      <td>0.500000</td>\n",
       "      <td>0.000000</td>\n",
       "      <td>0.0</td>\n",
       "      <td>500.0</td>\n",
       "    </tr>\n",
       "    <tr>\n",
       "      <th>2</th>\n",
       "      <td>0</td>\n",
       "      <td>20</td>\n",
       "      <td>2.011845</td>\n",
       "      <td>0.333333</td>\n",
       "      <td>500.0</td>\n",
       "      <td>0.0</td>\n",
       "    </tr>\n",
       "  </tbody>\n",
       "</table>\n",
       "</div>"
      ],
      "text/plain": [
       "   coordinate_x  coordinate_y  displacement_x  displacement_y  load_x  load_y\n",
       "0             0             0        0.000000        0.000000  -500.0  -500.0\n",
       "1            20             0        0.500000        0.000000     0.0   500.0\n",
       "2             0            20        2.011845        0.333333   500.0     0.0"
      ]
     },
     "execution_count": 8,
     "metadata": {},
     "output_type": "execute_result"
    }
   ],
   "source": [
    "results = nodes.copy()\n",
    "results[['displacement_x','displacement_y']] = U.reshape(-1,2)\n",
    "results[['load_x','load_y']] = P.reshape(-1,2)\n",
    "results"
   ]
  },
  {
   "cell_type": "code",
   "execution_count": 9,
   "metadata": {},
   "outputs": [
    {
     "data": {
      "image/png": "[encoded data removed]",
      "text/plain": [
       "<Figure size 640x480 with 1 Axes>"
      ]
     },
     "metadata": {},
     "output_type": "display_data"
    }
   ],
   "source": [
    "import matplotlib.pyplot as plt\n",
    "factor = 1\n",
    "results['deformed_x'] = results['coordinate_x'] + factor*results['displacement_x']\n",
    "results['deformed_y'] = results['coordinate_y'] + factor*results['displacement_y']\n",
    "results.loc[3] = results.loc[0] # adding a new row with values as first row\n",
    "\n",
    "plt.plot(results['coordinate_x'],results['coordinate_y'],'b-', label = 'original')\n",
    "plt.plot(results['deformed_x'],results['deformed_y'],'r-', label = 'deformed')\n",
    "plt.legend()\n",
    "# plt.axis('off')\n",
    "plt.show()"
   ]
  }
 ],
 "metadata": {
  "kernelspec": {
   "display_name": "Python 3",
   "language": "python",
   "name": "python3"
  },
  "language_info": {
   "codemirror_mode": {
    "name": "ipython",
    "version": 3
   },
   "file_extension": ".py",
   "mimetype": "text/x-python",
   "name": "python",
   "nbconvert_exporter": "python",
   "pygments_lexer": "ipython3",
   "version": "3.10.6"
  }
 },
 "nbformat": 4,
 "nbformat_minor": 2
}
