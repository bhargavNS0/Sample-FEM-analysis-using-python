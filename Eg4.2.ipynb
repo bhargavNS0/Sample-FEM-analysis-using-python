{
 "cells": [
  {
   "cell_type": "code",
   "execution_count": 1,
   "metadata": {},
   "outputs": [],
   "source": [
    "import numpy as np\n",
    "import pandas as pd "
   ]
  },
  {
   "cell_type": "code",
   "execution_count": 2,
   "metadata": {},
   "outputs": [
    {
     "data": {
      "text/html": [
       "<div>\n",
       "<style scoped>\n",
       "    .dataframe tbody tr th:only-of-type {\n",
       "        vertical-align: middle;\n",
       "    }\n",
       "\n",
       "    .dataframe tbody tr th {\n",
       "        vertical-align: top;\n",
       "    }\n",
       "\n",
       "    .dataframe thead th {\n",
       "        text-align: right;\n",
       "    }\n",
       "</style>\n",
       "<table border=\"1\" class=\"dataframe\">\n",
       "  <thead>\n",
       "    <tr style=\"text-align: right;\">\n",
       "      <th></th>\n",
       "      <th>coordinate</th>\n",
       "      <th>displacement</th>\n",
       "      <th>slope</th>\n",
       "      <th>load</th>\n",
       "      <th>moment</th>\n",
       "    </tr>\n",
       "  </thead>\n",
       "  <tbody>\n",
       "    <tr>\n",
       "      <th>0</th>\n",
       "      <td>0</td>\n",
       "      <td>0.0</td>\n",
       "      <td>0</td>\n",
       "      <td>NaN</td>\n",
       "      <td>NaN</td>\n",
       "    </tr>\n",
       "    <tr>\n",
       "      <th>1</th>\n",
       "      <td>120</td>\n",
       "      <td>NaN</td>\n",
       "      <td>0</td>\n",
       "      <td>-10000.0</td>\n",
       "      <td>0.0</td>\n",
       "    </tr>\n",
       "    <tr>\n",
       "      <th>2</th>\n",
       "      <td>240</td>\n",
       "      <td>0.0</td>\n",
       "      <td>0</td>\n",
       "      <td>NaN</td>\n",
       "      <td>NaN</td>\n",
       "    </tr>\n",
       "    <tr>\n",
       "      <th>3</th>\n",
       "      <td>360</td>\n",
       "      <td>NaN</td>\n",
       "      <td>0</td>\n",
       "      <td>-10000.0</td>\n",
       "      <td>0.0</td>\n",
       "    </tr>\n",
       "    <tr>\n",
       "      <th>4</th>\n",
       "      <td>480</td>\n",
       "      <td>0.0</td>\n",
       "      <td>0</td>\n",
       "      <td>NaN</td>\n",
       "      <td>NaN</td>\n",
       "    </tr>\n",
       "  </tbody>\n",
       "</table>\n",
       "</div>"
      ],
      "text/plain": [
       "   coordinate  displacement  slope     load  moment\n",
       "0           0           0.0      0      NaN     NaN\n",
       "1         120           NaN      0 -10000.0     0.0\n",
       "2         240           0.0      0      NaN     NaN\n",
       "3         360           NaN      0 -10000.0     0.0\n",
       "4         480           0.0      0      NaN     NaN"
      ]
     },
     "execution_count": 2,
     "metadata": {},
     "output_type": "execute_result"
    }
   ],
   "source": [
    "# creating nodes\n",
    "columns = ['coordinate','displacement','slope','load','moment']\n",
    "data = [[0,0,0,np.nan,np.nan],\n",
    "        [120,np.nan,0,-10000,0],\n",
    "        [240,0,0,np.nan,np.nan],\n",
    "        [360,np.nan,0,-10000,0],\n",
    "        [480,0,0,np.nan,np.nan]]\n",
    "nodes = pd.DataFrame(data,columns=columns)\n",
    "nodes"
   ]
  },
  {
   "cell_type": "code",
   "execution_count": 3,
   "metadata": {},
   "outputs": [
    {
     "data": {
      "text/html": [
       "<div>\n",
       "<style scoped>\n",
       "    .dataframe tbody tr th:only-of-type {\n",
       "        vertical-align: middle;\n",
       "    }\n",
       "\n",
       "    .dataframe tbody tr th {\n",
       "        vertical-align: top;\n",
       "    }\n",
       "\n",
       "    .dataframe thead th {\n",
       "        text-align: right;\n",
       "    }\n",
       "</style>\n",
       "<table border=\"1\" class=\"dataframe\">\n",
       "  <thead>\n",
       "    <tr style=\"text-align: right;\">\n",
       "      <th></th>\n",
       "      <th>start</th>\n",
       "      <th>end</th>\n",
       "      <th>length</th>\n",
       "      <th>material</th>\n",
       "      <th>MoI</th>\n",
       "    </tr>\n",
       "  </thead>\n",
       "  <tbody>\n",
       "    <tr>\n",
       "      <th>0</th>\n",
       "      <td>0</td>\n",
       "      <td>1</td>\n",
       "      <td>120</td>\n",
       "      <td>30000000.0</td>\n",
       "      <td>500</td>\n",
       "    </tr>\n",
       "    <tr>\n",
       "      <th>1</th>\n",
       "      <td>1</td>\n",
       "      <td>2</td>\n",
       "      <td>120</td>\n",
       "      <td>30000000.0</td>\n",
       "      <td>500</td>\n",
       "    </tr>\n",
       "    <tr>\n",
       "      <th>2</th>\n",
       "      <td>2</td>\n",
       "      <td>3</td>\n",
       "      <td>120</td>\n",
       "      <td>30000000.0</td>\n",
       "      <td>500</td>\n",
       "    </tr>\n",
       "    <tr>\n",
       "      <th>3</th>\n",
       "      <td>3</td>\n",
       "      <td>4</td>\n",
       "      <td>120</td>\n",
       "      <td>30000000.0</td>\n",
       "      <td>500</td>\n",
       "    </tr>\n",
       "  </tbody>\n",
       "</table>\n",
       "</div>"
      ],
      "text/plain": [
       "   start  end  length    material  MoI\n",
       "0      0    1     120  30000000.0  500\n",
       "1      1    2     120  30000000.0  500\n",
       "2      2    3     120  30000000.0  500\n",
       "3      3    4     120  30000000.0  500"
      ]
     },
     "execution_count": 3,
     "metadata": {},
     "output_type": "execute_result"
    }
   ],
   "source": [
    "# creating elements\n",
    "columns = ['start','end','length','material','MoI']\n",
    "data = [[0,1,120,30e6,500],\n",
    "        [1,2,120,30e6,500],\n",
    "        [2,3,120,30e6,500],\n",
    "        [3,4,120,30e6,500]]\n",
    "elements = pd.DataFrame(data,columns=columns)\n",
    "elements"
   ]
  },
  {
   "cell_type": "code",
   "execution_count": 4,
   "metadata": {},
   "outputs": [
    {
     "data": {
      "text/html": [
       "<div>\n",
       "<style scoped>\n",
       "    .dataframe tbody tr th:only-of-type {\n",
       "        vertical-align: middle;\n",
       "    }\n",
       "\n",
       "    .dataframe tbody tr th {\n",
       "        vertical-align: top;\n",
       "    }\n",
       "\n",
       "    .dataframe thead th {\n",
       "        text-align: right;\n",
       "    }\n",
       "</style>\n",
       "<table border=\"1\" class=\"dataframe\">\n",
       "  <thead>\n",
       "    <tr style=\"text-align: right;\">\n",
       "      <th></th>\n",
       "      <th>start</th>\n",
       "      <th>end</th>\n",
       "      <th>length</th>\n",
       "      <th>material</th>\n",
       "      <th>MoI</th>\n",
       "      <th>k</th>\n",
       "    </tr>\n",
       "  </thead>\n",
       "  <tbody>\n",
       "    <tr>\n",
       "      <th>0</th>\n",
       "      <td>0</td>\n",
       "      <td>1</td>\n",
       "      <td>120</td>\n",
       "      <td>30000000.0</td>\n",
       "      <td>500</td>\n",
       "      <td>[[104166.667, 6250000.0, -104166.667, 6250000....</td>\n",
       "    </tr>\n",
       "    <tr>\n",
       "      <th>1</th>\n",
       "      <td>1</td>\n",
       "      <td>2</td>\n",
       "      <td>120</td>\n",
       "      <td>30000000.0</td>\n",
       "      <td>500</td>\n",
       "      <td>[[104166.667, 6250000.0, -104166.667, 6250000....</td>\n",
       "    </tr>\n",
       "    <tr>\n",
       "      <th>2</th>\n",
       "      <td>2</td>\n",
       "      <td>3</td>\n",
       "      <td>120</td>\n",
       "      <td>30000000.0</td>\n",
       "      <td>500</td>\n",
       "      <td>[[104166.667, 6250000.0, -104166.667, 6250000....</td>\n",
       "    </tr>\n",
       "    <tr>\n",
       "      <th>3</th>\n",
       "      <td>3</td>\n",
       "      <td>4</td>\n",
       "      <td>120</td>\n",
       "      <td>30000000.0</td>\n",
       "      <td>500</td>\n",
       "      <td>[[104166.667, 6250000.0, -104166.667, 6250000....</td>\n",
       "    </tr>\n",
       "  </tbody>\n",
       "</table>\n",
       "</div>"
      ],
      "text/plain": [
       "   start  end  length    material  MoI  \\\n",
       "0      0    1     120  30000000.0  500   \n",
       "1      1    2     120  30000000.0  500   \n",
       "2      2    3     120  30000000.0  500   \n",
       "3      3    4     120  30000000.0  500   \n",
       "\n",
       "                                                   k  \n",
       "0  [[104166.667, 6250000.0, -104166.667, 6250000....  \n",
       "1  [[104166.667, 6250000.0, -104166.667, 6250000....  \n",
       "2  [[104166.667, 6250000.0, -104166.667, 6250000....  \n",
       "3  [[104166.667, 6250000.0, -104166.667, 6250000....  "
      ]
     },
     "execution_count": 4,
     "metadata": {},
     "output_type": "execute_result"
    }
   ],
   "source": [
    "def compute_localK(element):\n",
    "    L = element['length']\n",
    "    c = element['material']*element['MoI']/(L**3)\n",
    "    k = np.array([[12, 6*L, -12, 6*L],\n",
    "                [6*L, 4*L*L, -6*L, 2*L*L],\n",
    "                [-12, -6*L, 12, -6*L],\n",
    "                [6*L, 2*L*L, -6*L, 4*L*L]])*c\n",
    "    return k.round(3)\n",
    "elements['k'] = elements.apply(compute_localK,axis=1)\n",
    "elements"
   ]
  },
  {
   "cell_type": "code",
   "execution_count": 5,
   "metadata": {},
   "outputs": [
    {
     "data": {
      "text/plain": [
       "array([[ 1.04166667e+05,  6.25000000e+06, -1.04166667e+05,\n",
       "         6.25000000e+06,  0.00000000e+00,  0.00000000e+00,\n",
       "         0.00000000e+00,  0.00000000e+00,  0.00000000e+00,\n",
       "         0.00000000e+00],\n",
       "       [ 6.25000000e+06,  5.00000000e+08, -6.25000000e+06,\n",
       "         2.50000000e+08,  0.00000000e+00,  0.00000000e+00,\n",
       "         0.00000000e+00,  0.00000000e+00,  0.00000000e+00,\n",
       "         0.00000000e+00],\n",
       "       [-1.04166667e+05, -6.25000000e+06,  2.08333334e+05,\n",
       "         0.00000000e+00, -1.04166667e+05,  6.25000000e+06,\n",
       "         0.00000000e+00,  0.00000000e+00,  0.00000000e+00,\n",
       "         0.00000000e+00],\n",
       "       [ 6.25000000e+06,  2.50000000e+08,  0.00000000e+00,\n",
       "         1.00000000e+09, -6.25000000e+06,  2.50000000e+08,\n",
       "         0.00000000e+00,  0.00000000e+00,  0.00000000e+00,\n",
       "         0.00000000e+00],\n",
       "       [ 0.00000000e+00,  0.00000000e+00, -1.04166667e+05,\n",
       "        -6.25000000e+06,  2.08333334e+05,  0.00000000e+00,\n",
       "        -1.04166667e+05,  6.25000000e+06,  0.00000000e+00,\n",
       "         0.00000000e+00],\n",
       "       [ 0.00000000e+00,  0.00000000e+00,  6.25000000e+06,\n",
       "         2.50000000e+08,  0.00000000e+00,  1.00000000e+09,\n",
       "        -6.25000000e+06,  2.50000000e+08,  0.00000000e+00,\n",
       "         0.00000000e+00],\n",
       "       [ 0.00000000e+00,  0.00000000e+00,  0.00000000e+00,\n",
       "         0.00000000e+00, -1.04166667e+05, -6.25000000e+06,\n",
       "         2.08333334e+05,  0.00000000e+00, -1.04166667e+05,\n",
       "         6.25000000e+06],\n",
       "       [ 0.00000000e+00,  0.00000000e+00,  0.00000000e+00,\n",
       "         0.00000000e+00,  6.25000000e+06,  2.50000000e+08,\n",
       "         0.00000000e+00,  1.00000000e+09, -6.25000000e+06,\n",
       "         2.50000000e+08],\n",
       "       [ 0.00000000e+00,  0.00000000e+00,  0.00000000e+00,\n",
       "         0.00000000e+00,  0.00000000e+00,  0.00000000e+00,\n",
       "        -1.04166667e+05, -6.25000000e+06,  1.04166667e+05,\n",
       "        -6.25000000e+06],\n",
       "       [ 0.00000000e+00,  0.00000000e+00,  0.00000000e+00,\n",
       "         0.00000000e+00,  0.00000000e+00,  0.00000000e+00,\n",
       "         6.25000000e+06,  2.50000000e+08, -6.25000000e+06,\n",
       "         5.00000000e+08]])"
      ]
     },
     "execution_count": 5,
     "metadata": {},
     "output_type": "execute_result"
    }
   ],
   "source": [
    "def compute_globalK(element):\n",
    "    N = len(nodes)\n",
    "    indices = np.arange(N*2)\n",
    "    indices = indices.reshape(-1,2)\n",
    "\n",
    "    K = np.zeros([N*2,N*2])\n",
    "\n",
    "    start = element['start']\n",
    "    end = element['end']\n",
    "    indices = np.hstack([indices[start],indices[end]])\n",
    "    K[np.ix_(indices,indices)] = element['k']\n",
    "\n",
    "    return K\n",
    "K = elements.apply(compute_globalK,axis=1).sum()\n",
    "K  \n"
   ]
  },
  {
   "cell_type": "code",
   "execution_count": 6,
   "metadata": {},
   "outputs": [],
   "source": [
    "def partition_k(K, A, B):\n",
    "    KAA = K[np.ix_(A,A)]\n",
    "    KAB = K[np.ix_(A,B)]\n",
    "    KBA = K[np.ix_(B,A)]\n",
    "    KBB = K[np.ix_(B,B)]\n",
    "    return KAA, KAB, KBA, KBB\n",
    "\n",
    "U = nodes[['displacement','slope']].to_numpy()\n",
    "U = U.ravel()\n",
    "A = np.isnan(U)\n",
    "\n",
    "P = nodes[['load','moment']].to_numpy()\n",
    "P = P.ravel()\n",
    "B = np.isnan(P)\n",
    "\n",
    "KAA, KAB, KBA, KBB = partition_k(K,A,B)"
   ]
  },
  {
   "cell_type": "code",
   "execution_count": 7,
   "metadata": {},
   "outputs": [],
   "source": [
    "# known displacements, UB\n",
    "UB = U[B]\n",
    "# known loads, PA\n",
    "PA = P[A]\n",
    "\n",
    "UA = np.dot(np.linalg.inv(KAA),(PA - np.dot(KAB,UB)))\n",
    "U[A] = UA\n",
    "\n",
    "PB = np.dot(KBA,UA) + np.dot(KBB,UB)\n",
    "P[B] = PB"
   ]
  },
  {
   "cell_type": "code",
   "execution_count": 8,
   "metadata": {},
   "outputs": [
    {
     "data": {
      "text/html": [
       "<div>\n",
       "<style scoped>\n",
       "    .dataframe tbody tr th:only-of-type {\n",
       "        vertical-align: middle;\n",
       "    }\n",
       "\n",
       "    .dataframe tbody tr th {\n",
       "        vertical-align: top;\n",
       "    }\n",
       "\n",
       "    .dataframe thead th {\n",
       "        text-align: right;\n",
       "    }\n",
       "</style>\n",
       "<table border=\"1\" class=\"dataframe\">\n",
       "  <thead>\n",
       "    <tr style=\"text-align: right;\">\n",
       "      <th></th>\n",
       "      <th>coordinate</th>\n",
       "      <th>displacement</th>\n",
       "      <th>slope</th>\n",
       "      <th>load</th>\n",
       "      <th>moment</th>\n",
       "    </tr>\n",
       "  </thead>\n",
       "  <tbody>\n",
       "    <tr>\n",
       "      <th>0</th>\n",
       "      <td>0</td>\n",
       "      <td>0.000</td>\n",
       "      <td>0.0</td>\n",
       "      <td>5000.0</td>\n",
       "      <td>299999.999</td>\n",
       "    </tr>\n",
       "    <tr>\n",
       "      <th>1</th>\n",
       "      <td>120</td>\n",
       "      <td>-0.048</td>\n",
       "      <td>0.0</td>\n",
       "      <td>-10000.0</td>\n",
       "      <td>0.000</td>\n",
       "    </tr>\n",
       "    <tr>\n",
       "      <th>2</th>\n",
       "      <td>240</td>\n",
       "      <td>0.000</td>\n",
       "      <td>0.0</td>\n",
       "      <td>10000.0</td>\n",
       "      <td>0.000</td>\n",
       "    </tr>\n",
       "    <tr>\n",
       "      <th>3</th>\n",
       "      <td>360</td>\n",
       "      <td>-0.048</td>\n",
       "      <td>0.0</td>\n",
       "      <td>-10000.0</td>\n",
       "      <td>0.000</td>\n",
       "    </tr>\n",
       "    <tr>\n",
       "      <th>4</th>\n",
       "      <td>480</td>\n",
       "      <td>0.000</td>\n",
       "      <td>0.0</td>\n",
       "      <td>5000.0</td>\n",
       "      <td>-299999.999</td>\n",
       "    </tr>\n",
       "  </tbody>\n",
       "</table>\n",
       "</div>"
      ],
      "text/plain": [
       "   coordinate  displacement  slope     load      moment\n",
       "0           0         0.000    0.0   5000.0  299999.999\n",
       "1         120        -0.048    0.0 -10000.0       0.000\n",
       "2         240         0.000    0.0  10000.0       0.000\n",
       "3         360        -0.048    0.0 -10000.0       0.000\n",
       "4         480         0.000    0.0   5000.0 -299999.999"
      ]
     },
     "execution_count": 8,
     "metadata": {},
     "output_type": "execute_result"
    }
   ],
   "source": [
    "results = nodes.copy()\n",
    "results[['displacement','slope']] = U.reshape(-1,2)\n",
    "results[['load','moment']] = P.reshape(-1,2)\n",
    "results.round(3)"
   ]
  },
  {
   "cell_type": "code",
   "execution_count": 20,
   "metadata": {},
   "outputs": [
    {
     "data": {
      "image/png": "[encoded data removed]",
      "text/plain": [
       "<Figure size 640x480 with 1 Axes>"
      ]
     },
     "metadata": {},
     "output_type": "display_data"
    }
   ],
   "source": [
    "import matplotlib.pyplot as plt\n",
    "N = len(nodes)\n",
    "y = np.zeros([N])\n",
    "plt.plot(results['coordinate'],y,'.-')\n",
    "\n",
    "plt.plot(results['coordinate'],results['displacement'],'r.-')\n",
    "plt.ylim([-0.08,0.05])\n",
    "plt.show()"
   ]
  },
  {
   "cell_type": "code",
   "execution_count": 12,
   "metadata": {},
   "outputs": [
    {
     "data": {
      "image/png": "[encoded data removed]",
      "text/plain": [
       "<Figure size 640x480 with 1 Axes>"
      ]
     },
     "metadata": {},
     "output_type": "display_data"
    }
   ],
   "source": [
    "plt.plot(results['coordinate'],y,'.-')\n",
    "def SFD():\n",
    "    x = np.linspace(0,480,100)\n",
    "    X = []\n",
    "    V = []\n",
    "    for i in x:\n",
    "        v = (results.loc[0,'load'] + results.loc[1,'load']*(i>results.loc[1,'coordinate']) + results.loc[2,'load']*(i>results.loc[2,'coordinate']) + results.loc[3,'load']*(i>results.loc[3,'coordinate']))/10e4\n",
    "        V.append(v)\n",
    "        X.append(i)\n",
    "    plt.plot(X,V,'r',label='SFD')\n",
    "    plt.plot([results.loc[0,'coordinate'],results.loc[0,'coordinate']], [y[0],results.loc[0,'load']/10e4],'r')\n",
    "    plt.plot([results.loc[4,'coordinate'],results.loc[4,'coordinate']], [y[4],-V[N]],'r')\n",
    "SFD()\n",
    "plt.legend()\n",
    "plt.show()\n"
   ]
  },
  {
   "cell_type": "code",
   "execution_count": null,
   "metadata": {},
   "outputs": [
    {
     "data": {
      "text/plain": [
       "[<matplotlib.lines.Line2D at 0x205bfb7d5d0>]"
      ]
     },
     "execution_count": 56,
     "metadata": {},
     "output_type": "execute_result"
    },
    {
     "data": {
      "image/png": "[encoded data removed]",
      "text/plain": [
       "<Figure size 640x480 with 1 Axes>"
      ]
     },
     "metadata": {},
     "output_type": "display_data"
    }
   ],
   "source": [
    "plt.plot([480,480], [0,-0.05],'r')"
   ]
  },
  {
   "cell_type": "code",
   "execution_count": null,
   "metadata": {},
   "outputs": [
    {
     "data": {
      "text/plain": [
       "5000.0"
      ]
     },
     "execution_count": 11,
     "metadata": {},
     "output_type": "execute_result"
    }
   ],
   "source": [
    "x = 53.33\n",
    "V  = results.loc[0,'load'] + results.loc[1,'load']*(x>results.loc[1,'coordinate']) + results.loc[2,'load']*(x>results.loc[2,'coordinate']) + results.loc[3,'load']*(x>results.loc[3,'coordinate'])\n",
    "V"
   ]
  }
 ],
 "metadata": {
  "kernelspec": {
   "display_name": "Python 3",
   "language": "python",
   "name": "python3"
  },
  "language_info": {
   "codemirror_mode": {
    "name": "ipython",
    "version": 3
   },
   "file_extension": ".py",
   "mimetype": "text/x-python",
   "name": "python",
   "nbconvert_exporter": "python",
   "pygments_lexer": "ipython3",
   "version": "3.10.6"
  }
 },
 "nbformat": 4,
 "nbformat_minor": 2
}
